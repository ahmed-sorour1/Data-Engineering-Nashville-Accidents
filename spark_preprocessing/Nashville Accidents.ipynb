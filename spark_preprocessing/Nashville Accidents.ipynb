{
 "cells": [
  {
   "cell_type": "code",
   "execution_count": 106,
   "id": "f376e9cd",
   "metadata": {},
   "outputs": [],
   "source": [
    "import numpy as np\n",
    "import pyspark\n",
    "import pyspark.sql.functions as fn\n",
    "from pyspark.sql.functions import *\n",
    "from pyspark.sql import SparkSession\n",
    "import pandas as pd"
   ]
  },
  {
   "cell_type": "code",
   "execution_count": 107,
   "id": "d6ba2575",
   "metadata": {},
   "outputs": [
    {
     "data": {
      "text/html": [
       "<style>pre {white-space: pre !important; }</style>"
      ],
      "text/plain": [
       "<IPython.core.display.HTML object>"
      ]
     },
     "metadata": {},
     "output_type": "display_data"
    }
   ],
   "source": [
    "from IPython.display import display, HTML\n",
    "display(HTML(\"<style>pre {white-space: pre !important; }</style>\"))"
   ]
  },
  {
   "cell_type": "code",
   "execution_count": 108,
   "id": "464e7e25",
   "metadata": {},
   "outputs": [
    {
     "data": {
      "text/html": [
       "\n",
       "            <div>\n",
       "                <p><b>SparkSession - in-memory</b></p>\n",
       "                \n",
       "        <div>\n",
       "            <p><b>SparkContext</b></p>\n",
       "\n",
       "            <p><a href=\"http://Nobody:4040\">Spark UI</a></p>\n",
       "\n",
       "            <dl>\n",
       "              <dt>Version</dt>\n",
       "                <dd><code>v3.5.5</code></dd>\n",
       "              <dt>Master</dt>\n",
       "                <dd><code>local[*]</code></dd>\n",
       "              <dt>AppName</dt>\n",
       "                <dd><code>pyspark-shell</code></dd>\n",
       "            </dl>\n",
       "        </div>\n",
       "        \n",
       "            </div>\n",
       "        "
      ],
      "text/plain": [
       "<pyspark.sql.session.SparkSession at 0x243e0e9a910>"
      ]
     },
     "execution_count": 108,
     "metadata": {},
     "output_type": "execute_result"
    }
   ],
   "source": [
    "spark = SparkSession.builder.getOrCreate()\n",
    "spark"
   ]
  },
  {
   "cell_type": "code",
   "execution_count": 109,
   "id": "b0de06df",
   "metadata": {},
   "outputs": [],
   "source": [
    "df = spark.read.format('csv')\\\n",
    "                .option('header', 'True')\\\n",
    "                .option('inferschema', 'True')\\\n",
    "                .load('Nashville Accidents Jan 2018 - Apl 2025.csv')"
   ]
  },
  {
   "cell_type": "code",
   "execution_count": 110,
   "id": "7dfc69c4",
   "metadata": {},
   "outputs": [
    {
     "name": "stdout",
     "output_type": "stream",
     "text": [
      "+---------------+---------------------+------------------------+------------------+--------------------+---------------+-----------+---------------------------------------+---------------------+------------------------+------------------------------+---------+-----+--------+----------+----------+------------+-------------------------------+--------+--------+-----+-------+------------------+--------------+-----------------+-------------+------------+\n",
      "|Accident Number|Date and Time        |Number of Motor Vehicles|Number of Injuries|Number of Fatalities|Property Damage|Hit and Run|Collision Type Description             |Weather Description  |Illumination Description|Street Address                |City     |State|Precinct|Lat       |Long      |HarmfulCodes|HarmfulDescriptions            |ObjectId|Zip Code|RPA  |Weather|IlluACCIDEmination|Collision Type|Reporting Officer|x            |y           |\n",
      "+---------------+---------------------+------------------------+------------------+--------------------+---------------+-----------+---------------------------------------+---------------------+------------------------+------------------------------+---------+-----+--------+----------+----------+------------+-------------------------------+--------+--------+-----+-------+------------------+--------------+-----------------+-------------+------------+\n",
      "|2008473471     |7/14/2018 11:00:00 PM|2                       |2                 |0                   |NULL           |N          |ANGLE                                  |NO ADVERSE CONDITIONS|NULL                    |28TH AVE N & JEFFERSON ST     |NASHVILLE|TN   |NORTH   |36.1678515|-86.820759|NULL        |NULL                           |1       |37208   |4525 |1      |1                 |4             |225845           |-9664842.6822|4323742.1271|\n",
      "|2008787228     |11/16/2018 9:33:00 AM|1                       |1                 |0                   |NULL           |N          |NOT COLLISION W/MOTOR VEHICLE-TRANSPORT|NO ADVERSE CONDITIONS|NULL                    |DR D B TODD JR BLVD & PEARL ST|NASHVILLE|TN   |NORTH   |36.1592612|-86.801016|NULL        |NULL                           |2       |37203   |5401 |1      |3                 |0             |475881           |-9662644.9015|4322557.6537|\n",
      "|2009131786     |2/19/2019 10:42:00 PM|1                       |1                 |0                   |NULL           |N          |HEAD-ON                                |NO ADVERSE CONDITIONS|NULL                    |4953 ASHLAND CITY HWY         |NASHVILLE|TN   |NULL    |36.2101056|-86.910492|NULL        |NULL                           |3       |37218   |3235 |1      |1                 |2             |562528           |-9674831.714 |4329570.2242|\n",
      "|2009418107     |5/27/2019 9:00:00 PM |2                       |0                 |0                   |NULL           |Y          |REAR END                               |NO ADVERSE CONDITIONS|NULL                    |JEFFERSON ST & 1ST AV N       |NULL     |TN   |NULL    |36.166    |-86.775   |NULL        |NULL                           |4       |NULL    |4311 |1      |1                 |1             |571315           |-9659748.8136|4323486.8221|\n",
      "|20120135824    |3/8/2021 6:05:00 PM  |2                       |1                 |0                   |NULL           |N          |Front to Rear                          |CLEAR                |DAYLIGHT                |W TRINITY LN & E TRINITY LN   |NASHVILLE|TN   |EAST    |36.20592  |-86.76898 |12          |MOTOR VEHICLE IN TRANSPORT     |5       |37207   |1863 |21     |1                 |11            |473670           |-9659078.6703|4328992.7652|\n",
      "|20130207124    |7/23/2019 3:46:00 PM |2                       |0                 |0                   |NULL           |N          |Front to Rear                          |CLEAR                |DAYLIGHT                |MM 7 2 I 440                  |NASHVILLE|TN   |SOUTH   |36.12547  |-86.73329 |12          |MOTOR VEHICLE IN TRANSPORT     |6       |37210   |83043|21     |1                 |11            |716886           |-9655105.6776|4317899.6131|\n",
      "|20130311458    |8/23/2023 1:00:00 PM |2                       |0                 |0                   |NULL           |N          |SIDESWIPE - SAME DIRECTION             |CLEAR                |DAYLIGHT                |MM 48 8 I 24                  |NASHVILLE|TN   |CENTRA  |36.16879  |-86.76631 |12          |MOTOR VEHICLE IN TRANSPORT     |7       |37213   |1104 |21     |1                 |5             |834807           |-9658781.4472|4323871.54  |\n",
      "|20131173280    |12/22/2020 6:00:00 AM|NULL                    |NULL              |NULL                |NULL           |NULL       |NULL                                   |NULL                 |NULL                    |NULL                          |NULL     |NULL |NULL    |NULL      |NULL      |NULL        |NULL                           |8       |NULL    |NULL |NULL   |NULL              |NULL          |NULL             |NULL         |NULL        |\n",
      "|20150316352    |4/9/2018 2:19:00 AM  |2                       |0                 |0                   |NULL           |Y          |ANGLE                                  |CLEAR                |DARK - LIGHTED          |MM 62 4 I 24                  |ANTIOCH  |TN   |SOUTH   |36.01645  |-86.62305 |12;39       |MOTOR VEHICLE IN TRANSPORT;WALL|9       |37013   |8806 |21     |3                 |4             |110090           |-9642833.817 |4302885.1028|\n",
      "|20150550257    |7/23/2019 11:40:00 PM|2                       |1                 |0                   |NULL           |N          |ANGLE                                  |CLOUDY               |DAYLIGHT                |NOLENSVILLE PKE & HARRISON ST |NASHVILLE|TN   |SOUTH   |36.09856  |-86.73893 |12          |MOTOR VEHICLE IN TRANSPORT     |10      |37211   |8431 |22     |1                 |4             |420040           |-9655733.5196|4314191.5645|\n",
      "+---------------+---------------------+------------------------+------------------+--------------------+---------------+-----------+---------------------------------------+---------------------+------------------------+------------------------------+---------+-----+--------+----------+----------+------------+-------------------------------+--------+--------+-----+-------+------------------+--------------+-----------------+-------------+------------+\n",
      "only showing top 10 rows\n",
      "\n"
     ]
    }
   ],
   "source": [
    "df.show(10,truncate=False)"
   ]
  },
  {
   "cell_type": "code",
   "execution_count": 111,
   "id": "aa328857",
   "metadata": {
    "scrolled": true
   },
   "outputs": [
    {
     "name": "stdout",
     "output_type": "stream",
     "text": [
      "root\n",
      " |-- Accident Number: long (nullable = true)\n",
      " |-- Date and Time: string (nullable = true)\n",
      " |-- Number of Motor Vehicles: integer (nullable = true)\n",
      " |-- Number of Injuries: integer (nullable = true)\n",
      " |-- Number of Fatalities: integer (nullable = true)\n",
      " |-- Property Damage: string (nullable = true)\n",
      " |-- Hit and Run: string (nullable = true)\n",
      " |-- Collision Type Description: string (nullable = true)\n",
      " |-- Weather Description: string (nullable = true)\n",
      " |-- Illumination Description: string (nullable = true)\n",
      " |-- Street Address: string (nullable = true)\n",
      " |-- City: string (nullable = true)\n",
      " |-- State: string (nullable = true)\n",
      " |-- Precinct: string (nullable = true)\n",
      " |-- Lat: double (nullable = true)\n",
      " |-- Long: double (nullable = true)\n",
      " |-- HarmfulCodes: string (nullable = true)\n",
      " |-- HarmfulDescriptions: string (nullable = true)\n",
      " |-- ObjectId: integer (nullable = true)\n",
      " |-- Zip Code: integer (nullable = true)\n",
      " |-- RPA: integer (nullable = true)\n",
      " |-- Weather: integer (nullable = true)\n",
      " |-- IlluACCIDEmination: integer (nullable = true)\n",
      " |-- Collision Type: integer (nullable = true)\n",
      " |-- Reporting Officer: integer (nullable = true)\n",
      " |-- x: double (nullable = true)\n",
      " |-- y: double (nullable = true)\n",
      "\n"
     ]
    }
   ],
   "source": [
    "df.printSchema()"
   ]
  },
  {
   "cell_type": "markdown",
   "id": "76e58e1d",
   "metadata": {},
   "source": [
    "## Finding Null Values in Each Column:"
   ]
  },
  {
   "cell_type": "code",
   "execution_count": 112,
   "id": "79ee0e11",
   "metadata": {},
   "outputs": [
    {
     "data": {
      "text/plain": [
       "216117"
      ]
     },
     "execution_count": 112,
     "metadata": {},
     "output_type": "execute_result"
    }
   ],
   "source": [
    "df.count()"
   ]
  },
  {
   "cell_type": "code",
   "execution_count": 113,
   "id": "37cb74fa",
   "metadata": {},
   "outputs": [
    {
     "name": "stdout",
     "output_type": "stream",
     "text": [
      "+---------------+-------------+------------------------+------------------+--------------------+---------------+-----------+--------------------------+-------------------+------------------------+--------------+----+-----+--------+---+----+------------+-------------------+--------+--------+---+-------+------------------+--------------+-----------------+---+---+\n",
      "|Accident Number|Date and Time|Number of Motor Vehicles|Number of Injuries|Number of Fatalities|Property Damage|Hit and Run|Collision Type Description|Weather Description|Illumination Description|Street Address|City|State|Precinct|Lat|Long|HarmfulCodes|HarmfulDescriptions|ObjectId|Zip Code|RPA|Weather|IlluACCIDEmination|Collision Type|Reporting Officer|  x|  y|\n",
      "+---------------+-------------+------------------------+------------------+--------------------+---------------+-----------+--------------------------+-------------------+------------------------+--------------+----+-----+--------+---+----+------------+-------------------+--------+--------+---+-------+------------------+--------------+-----------------+---+---+\n",
      "|              0|            0|                       4|                 3|                   3|         198477|         14|                     12974|              21464|                   13460|           236|   4|    4|     110|  2|   2|       19245|              21435|       0|     143|105|  21464|             13456|         12974|               15|  2|  2|\n",
      "+---------------+-------------+------------------------+------------------+--------------------+---------------+-----------+--------------------------+-------------------+------------------------+--------------+----+-----+--------+---+----+------------+-------------------+--------+--------+---+-------+------------------+--------------+-----------------+---+---+\n",
      "\n"
     ]
    }
   ],
   "source": [
    "def nullcol(df):\n",
    "    df_null_cols = df.select([sum(col(c).isNull().cast('int')).alias(c) for c in df.columns])\n",
    "    df_null_cols.show()\n",
    "nullcol(df)    "
   ]
  },
  {
   "cell_type": "code",
   "execution_count": 114,
   "id": "cc95f6a7",
   "metadata": {},
   "outputs": [
    {
     "name": "stdout",
     "output_type": "stream",
     "text": [
      "+-------+---------------------+--------------------+------------------------+------------------+---------------------+---------------+-----------+--------------------------+----------------------+------------------------+-----------------------------------+------------+------+--------+-------------------+------------------+------------------+---------------------+------------------+-----------------+------------------+------------------+------------------+-----------------+------------------+------------------+-----------------+\n",
      "|summary|Accident Number      |Date and Time       |Number of Motor Vehicles|Number of Injuries|Number of Fatalities |Property Damage|Hit and Run|Collision Type Description|Weather Description   |Illumination Description|Street Address                     |City        |State |Precinct|Lat                |Long              |HarmfulCodes      |HarmfulDescriptions  |ObjectId          |Zip Code         |RPA               |Weather           |IlluACCIDEmination|Collision Type   |Reporting Officer |x                 |y                |\n",
      "+-------+---------------------+--------------------+------------------------+------------------+---------------------+---------------+-----------+--------------------------+----------------------+------------------------+-----------------------------------+------------+------+--------+-------------------+------------------+------------------+---------------------+------------------+-----------------+------------------+------------------+------------------+-----------------+------------------+------------------+-----------------+\n",
      "|count  |216117               |216117              |216113                  |216114            |216114               |17640          |216103     |203143                    |194653                |202657                  |215881                             |216113      |216113|216007  |216115             |216115            |196872            |194682               |216117            |215974           |216012            |194653            |202661            |203143           |216102            |216115            |216115           |\n",
      "|mean   |2.0208750390936478E10|NULL                |1.714177305391161       |0.4107091627566932|0.0038174296898858934|NULL           |NULL       |NULL                      |NULL                  |NULL                    |1047.8387096774193                 |NULL        |NULL  |NULL    |36.1450412538763   |-86.74331651043221|15.289162609375625|NULL                 |108059.0          |37172.39140359488|12605.954919171158|19.7169732806584  |1.9275686984668978|6.90903944511994 |1218203.0983146848|-9656221.823661186|4320613.547383148|\n",
      "|stddev |8.112497566516003E7  |NULL                |0.8240950965679213      |0.7752942468341105|0.06594607773701969  |NULL           |NULL       |NULL                      |NULL                  |NULL                    |1806.2150643832163                 |NULL        |NULL  |NULL    |0.16974481723266266|0.3814252533617187|10.81223979339688 |NULL                 |62387.748400627504|69.44964790483976|20751.48298860054 |11.020558652158304|3.8628603938029213|10.61485328082818|1561101.674381478 |42460.06497992056 |20822.09400637115|\n",
      "|min    |2008473471           |1/1/2018 10:00:00 PM|0                       |0                 |0                    |N              |N          |ANGLE                     |BLOWING SAND/SOIL/DIRT|DARK - LIGHTED          |-UNKNOWN RAMP/ROAD - & UNKNOWN RAMP|ANTIOCH     |TN    |CENTRA  |0.0                |-89.64255         |1                 |BOULDER              |1                 |37013            |1001              |1                 |1                 |0                |1                 |-9978963.0194     |0.0              |\n",
      "|max    |20250215131          |9/9/2024 9:55:00 PM |27                      |12                |4                    |Y              |Y          |UNKNOWN                   |UNKNOWN               |UNKNOWN                 |ZOPHI ST & GALLATIN PKE            |WHITES CREEK|TN    |WEST    |36.65554           |0.0               |99                |WORKING MOTOR VEHICLE|216117            |37240            |95101             |99                |98                |98               |4018550           |0.0               |4391201.6487     |\n",
      "+-------+---------------------+--------------------+------------------------+------------------+---------------------+---------------+-----------+--------------------------+----------------------+------------------------+-----------------------------------+------------+------+--------+-------------------+------------------+------------------+---------------------+------------------+-----------------+------------------+------------------+------------------+-----------------+------------------+------------------+-----------------+\n",
      "\n"
     ]
    }
   ],
   "source": [
    "df.describe().show(truncate=False)"
   ]
  },
  {
   "cell_type": "markdown",
   "id": "3df5d699",
   "metadata": {},
   "source": [
    "## Get the NUMBER of distinct values for each column:"
   ]
  },
  {
   "cell_type": "code",
   "execution_count": 115,
   "id": "aca1ea70",
   "metadata": {},
   "outputs": [
    {
     "name": "stdout",
     "output_type": "stream",
     "text": [
      "+---------------+-------------+------------------------+------------------+--------------------+---------------+-----------+--------------------------+-------------------+------------------------+--------------+----+-----+--------+-----+-----+------------+-------------------+--------+--------+----+-------+------------------+--------------+-----------------+-----+-----+\n",
      "|Accident Number|Date and Time|Number of Motor Vehicles|Number of Injuries|Number of Fatalities|Property Damage|Hit and Run|Collision Type Description|Weather Description|Illumination Description|Street Address|City|State|Precinct|  Lat| Long|HarmfulCodes|HarmfulDescriptions|ObjectId|Zip Code| RPA|Weather|IlluACCIDEmination|Collision Type|Reporting Officer|    x|    y|\n",
      "+---------------+-------------+------------------------+------------------+--------------------+---------------+-----------+--------------------------+-------------------+------------------------+--------------+----+-----+--------+-----+-----+------------+-------------------+--------+--------+----+-------+------------------+--------------+-----------------+-----+-----+\n",
      "|         216117|       190811|                      14|                13|                   5|              2|          2|                        11|                 13|                       8|         30309|  20|    1|       8|30215|34328|        3479|               2706|  216117|      33|1970|     13|                 8|            11|             1612|34328|30215|\n",
      "+---------------+-------------+------------------------+------------------+--------------------+---------------+-----------+--------------------------+-------------------+------------------------+--------------+----+-----+--------+-----+-----+------------+-------------------+--------+--------+----+-------+------------------+--------------+-----------------+-----+-----+\n",
      "\n"
     ]
    }
   ],
   "source": [
    "df_distinct_cols = df.select([countDistinct(c).alias(c) for c in df.columns])\n",
    "df_distinct_cols.show()"
   ]
  },
  {
   "cell_type": "markdown",
   "id": "14592210",
   "metadata": {},
   "source": [
    "## Get the distinct values for each column:"
   ]
  },
  {
   "cell_type": "code",
   "execution_count": 116,
   "id": "81d192dd",
   "metadata": {},
   "outputs": [
    {
     "name": "stdout",
     "output_type": "stream",
     "text": [
      "+---------------+---------------------+------------------------+------------------+--------------------+---------------+-----------+---------------------------------------+---------------------+------------------------+-------------------------------+--------------+-----+--------+--------+---------+------------+-------------------------------------------------+--------+--------+-----+-------+------------------+--------------+-----------------+-------------+------------+\n",
      "|Accident Number|Date and Time        |Number of Motor Vehicles|Number of Injuries|Number of Fatalities|Property Damage|Hit and Run|Collision Type Description             |Weather Description  |Illumination Description|Street Address                 |City          |State|Precinct|Lat     |Long     |HarmfulCodes|HarmfulDescriptions                              |ObjectId|Zip Code|RPA  |Weather|IlluACCIDEmination|Collision Type|Reporting Officer|x            |y           |\n",
      "+---------------+---------------------+------------------------+------------------+--------------------+---------------+-----------+---------------------------------------+---------------------+------------------------+-------------------------------+--------------+-----+--------+--------+---------+------------+-------------------------------------------------+--------+--------+-----+-------+------------------+--------------+-----------------+-------------+------------+\n",
      "|20180008839    |5/29/2018 2:30:00 AM |1                       |12                |1                   |Y              |Y          |REAR-TO-REAR                           |BLOWING SNOW         |DAWN                    |HART LN & DICKERSON PKE        |GOODLETTSVILLE|TN   |WEST    |36.19243|-86.6664 |1;43        |OTHER OBJECT (NOT FIXED);Cargo Equip Loss/Shift  |148     |37015   |1829 |28     |1                 |1             |256425           |-9652890.4198|4312312.5332|\n",
      "|20180026815    |1/4/2018 8:00:00 PM  |6                       |1                 |2                   |N              |N          |HEAD-ON                                |NO ADVERSE CONDITIONS|DARK - LIGHTED          |16TH AVS & MCGAVOCK ST         |WHITES CREEK  |NULL |SOUTH   |36.14379|-86.78791|34;43       |MOTOR VEHICLE IN TRANSPORT;BUILDING              |463     |37215   |4101 |22     |3                 |6             |279233           |-9658357.32  |4321238.0817|\n",
      "|20180031998    |1/10/2018 5:20:00 PM |3                       |6                 |0                   |NULL           |NULL       |ANGLE                                  |SLEET, HAIL          |DARK - NOT LIGHTED      |WEST END AV & ORLEANS DR       |ANTIOCH       |NULL |HERMIT  |36.07724|-86.89553|31;39       |GUARDRAIL FACE;GUARDRAIL END                     |471     |37209   |1959 |1      |5                 |16            |299253           |-9665033.1498|4322950.4461|\n",
      "|20180032213    |1/19/2018 6:35:00 PM |5                       |3                 |3                   |NULL           |NULL       |REAR END                               |SEVERE CROSSWIND     |DAYLIGHT                |MM 91 6 I 65                   |OLD HICKORY   |NULL |NORTH   |36.15707|-86.78838|14;55;63    |BRIDGE PARPET END                                |496     |37210   |18800|3      |9                 |3             |279120           |-9659752.1532|4319315.0972|\n",
      "|20180034164    |1/19/2018 6:48:00 PM |4                       |5                 |4                   |NULL           |NULL       |UNKNOWN                                |CLOUDY               |DUSK                    |MT VIEW RD & HAMILTON CHURCH RD|MADISON       |NULL |MADISO  |36.25948|-86.75884|2;30        |FENCE;TREE                                       |833     |37217   |4519 |5      |4                 |5             |769382           |-9656727.6026|4335789.4142|\n",
      "|20180035417    |1/19/2018 8:00:00 PM |8                       |4                 |NULL                |NULL           |NULL       |NOT COLLISION W/MOTOR VEHICLE-TRANSPORT|CLEAR                |UNKNOWN                 |RIVER ROAD PKE & RIVER RD      |ASHLAND CITY  |NULL |MIDTOW  |36.16292|-86.73344|47;7        |SHRUBBERY;TREE;Ran Off Road-Left                 |1088    |37207   |44022|4      |7                 |9             |311803           |-9669164.2161|4321458.6609|\n",
      "|20180055586    |1/25/2018 10:22:00 PM|7                       |8                 |NULL                |NULL           |NULL       |SIDESWIPE - OPPOSITE DIRECTION         |UNKNOWN              |OTHER                   |6TH AVN & CHURCH ST            |MOUNT JULIET  |NULL |EAST    |36.05757|-86.86387|33;47       |UTILITY POLE;FENCE;TREE                          |1238    |37115   |1507 |8      |98                |4             |217478           |-9656399.2101|4306864.6344|\n",
      "|20180057697    |1/27/2018 10:10:00 PM|2                       |7                 |NULL                |NULL           |NULL       |OTHER                                  |OTHER (NARRATIVE)    |Dark-Unknown Lighting   |LAFAYETTE ST & 7TH AVS         |NASHVILLE     |NULL |CENTRA  |36.2481 |-86.64532|12;75       |UNKNOWN MOST HARMFUL EVENT                       |1342    |37135   |3226 |10     |2                 |98            |402652           |-9643695.4298|4319017.3753|\n",
      "|20180058570    |1/22/2018 9:30:00 PM |12                      |10                |NULL                |NULL           |NULL       |SIDESWIPE - SAME DIRECTION             |SNOW                 |NULL                    |I40 W ENT RAMP & I 24          |JOELTON       |NULL |NULL    |36.14441|-86.73287|39;64       |CULVERT;DITCH;Ran Off Road-Right                 |1580    |37213   |4161 |21     |NULL              |11            |161948           |-9639976.2456|4320406.8142|\n",
      "|20180063624    |1/24/2018 2:15:00 PM |0                       |2                 |NULL                |NULL           |NULL       |Front to Rear                          |RAIN                 |NULL                    |1 HIGHWAY 70S                  |NOLENSVILLE   |NULL |NULL    |36.10657|-86.71266|12;24       |FIRE HYDRANT;Ran Off Road-Right                  |1591    |37228   |1721 |98     |NULL              |2             |419952           |-9665146.6957|4321553.7871|\n",
      "|20180018306    |2/5/2018 1:38:00 PM  |10                      |0                 |NULL                |NULL           |NULL       |Rear to Side                           |FOG                  |NULL                    |OLD HARDING PKE & HIGHWAY 100  |BRENTWOOD     |NULL |NULL    |36.14585|-86.65845|12;15       |MOTOR VEHICLE IN TRANSPORT;TRAFFIC SIGNAL SUPPORT|1645    |37072   |8803 |2      |NULL              |0             |279204           |-9654197.3106|4316619.3591|\n",
      "+---------------+---------------------+------------------------+------------------+--------------------+---------------+-----------+---------------------------------------+---------------------+------------------------+-------------------------------+--------------+-----+--------+--------+---------+------------+-------------------------------------------------+--------+--------+-----+-------+------------------+--------------+-----------------+-------------+------------+\n",
      "\n",
      "CPU times: total: 547 ms\n",
      "Wall time: 1min 8s\n"
     ]
    }
   ],
   "source": [
    "from pyspark.sql import Row\n",
    "unique_values_dict = {}\n",
    "distinct_number = 11\n",
    "\n",
    "for col_name in df.columns:\n",
    "    values = df.select(col_name).distinct().limit(distinct_number).rdd.flatMap(lambda x: x).collect()\n",
    "    padded_values = values + [None] * (distinct_number - len(values))\n",
    "    unique_values_dict[col_name] = padded_values\n",
    "rows = [Row(**{col: unique_values_dict[col][i] for col in df.columns}) for i in range(distinct_number)]\n",
    "\n",
    "spark_df_distinct = spark.createDataFrame(rows)\n",
    "\n",
    "spark_df_distinct.show(truncate=False)"
   ]
  },
  {
   "cell_type": "markdown",
   "id": "fff53125",
   "metadata": {},
   "source": [
    "### Get the number of null rows:"
   ]
  },
  {
   "cell_type": "code",
   "execution_count": 117,
   "id": "a0741626",
   "metadata": {},
   "outputs": [
    {
     "name": "stdout",
     "output_type": "stream",
     "text": [
      "200442\n",
      "15675\n"
     ]
    }
   ],
   "source": [
    "from functools import reduce\n",
    "null_condition = reduce(lambda x, y: x | y, (col(c).isNull() for c in df.columns))\n",
    "null_row_count = df.filter(null_condition).count()\n",
    "print(null_row_count)\n",
    "print(df.count() - null_row_count)"
   ]
  },
  {
   "cell_type": "markdown",
   "id": "0a49cdff",
   "metadata": {},
   "source": [
    "## Filling null with Median:\n",
    "#### (Number of Motor Vehicles, Number of injuries, Number of Fatalities)"
   ]
  },
  {
   "cell_type": "code",
   "execution_count": 118,
   "id": "3cd42830",
   "metadata": {},
   "outputs": [
    {
     "name": "stdout",
     "output_type": "stream",
     "text": [
      "+---------------+-------------+------------------------+------------------+--------------------+---------------+-----------+--------------------------+-------------------+------------------------+--------------+----+-----+--------+---+----+------------+-------------------+--------+--------+---+-------+------------------+--------------+-----------------+---+---+\n",
      "|Accident Number|Date and Time|Number of Motor Vehicles|Number of Injuries|Number of Fatalities|Property Damage|Hit and Run|Collision Type Description|Weather Description|Illumination Description|Street Address|City|State|Precinct|Lat|Long|HarmfulCodes|HarmfulDescriptions|ObjectId|Zip Code|RPA|Weather|IlluACCIDEmination|Collision Type|Reporting Officer|  x|  y|\n",
      "+---------------+-------------+------------------------+------------------+--------------------+---------------+-----------+--------------------------+-------------------+------------------------+--------------+----+-----+--------+---+----+------------+-------------------+--------+--------+---+-------+------------------+--------------+-----------------+---+---+\n",
      "|              0|            0|                       0|                 0|                   0|         198477|         14|                     12974|              21464|                   13460|           236|   4|    4|     110|  2|   2|       19245|              21435|       0|     143|105|  21464|             13456|         12974|               15|  2|  2|\n",
      "+---------------+-------------+------------------------+------------------+--------------------+---------------+-----------+--------------------------+-------------------+------------------------+--------------+----+-----+--------+---+----+------------+-------------------+--------+--------+---+-------+------------------+--------------+-----------------+---+---+\n",
      "\n"
     ]
    }
   ],
   "source": [
    "median_motor_vecheils = df.select(fn.median(col('Number of Motor Vehicles'))).collect()\n",
    "median_Number_of_injuries = df.select(fn.median(col('Number of Injuries'))).collect()\n",
    "median_Number_of_Fatalities = df.select(fn.median(col('Number of Fatalities'))).collect()\n",
    "\n",
    "median_dict = {\n",
    "    \"Number of Motor Vehicles\": median_motor_vecheils[0][0],\n",
    "    \"Number of Injuries\": median_Number_of_injuries[0][0],\n",
    "    \"Number of Fatalities\": median_Number_of_Fatalities[0][0]\n",
    "}\n",
    "\n",
    "df_fill_na = df.na.fill(median_dict)\n",
    "nullcol(df_fill_na)"
   ]
  },
  {
   "cell_type": "markdown",
   "id": "45b3cad0",
   "metadata": {},
   "source": [
    "## Filling Null With \"UNKNOWN\":"
   ]
  },
  {
   "cell_type": "code",
   "execution_count": 119,
   "id": "6c2c48f7",
   "metadata": {},
   "outputs": [
    {
     "data": {
      "text/plain": [
       "216117"
      ]
     },
     "execution_count": 119,
     "metadata": {},
     "output_type": "execute_result"
    }
   ],
   "source": [
    "df_fill_na.count()"
   ]
  },
  {
   "cell_type": "code",
   "execution_count": 120,
   "id": "9d6b5296",
   "metadata": {},
   "outputs": [
    {
     "name": "stdout",
     "output_type": "stream",
     "text": [
      "+---------------+-------------+------------------------+------------------+--------------------+---------------+-----------+--------------------------+-------------------+------------------------+--------------+----+-----+--------+---+----+------------+-------------------+--------+--------+---+-------+------------------+--------------+-----------------+---+---+\n",
      "|Accident Number|Date and Time|Number of Motor Vehicles|Number of Injuries|Number of Fatalities|Property Damage|Hit and Run|Collision Type Description|Weather Description|Illumination Description|Street Address|City|State|Precinct|Lat|Long|HarmfulCodes|HarmfulDescriptions|ObjectId|Zip Code|RPA|Weather|IlluACCIDEmination|Collision Type|Reporting Officer|  x|  y|\n",
      "+---------------+-------------+------------------------+------------------+--------------------+---------------+-----------+--------------------------+-------------------+------------------------+--------------+----+-----+--------+---+----+------------+-------------------+--------+--------+---+-------+------------------+--------------+-----------------+---+---+\n",
      "|              0|            0|                       0|                 0|                   0|         198477|         14|                         0|                  0|                       0|             0|   4|    4|     110|  2|   2|           0|                  0|       0|     143|105|  21464|             13456|         12974|               15|  2|  2|\n",
      "+---------------+-------------+------------------------+------------------+--------------------+---------------+-----------+--------------------------+-------------------+------------------------+--------------+----+-----+--------+---+----+------------+-------------------+--------+--------+---+-------+------------------+--------------+-----------------+---+---+\n",
      "\n"
     ]
    }
   ],
   "source": [
    "df_fill_na_cat = df_fill_na.fillna({\"Collision Type Description\": \"UNKNOWN\",\n",
    "                         \"Weather Description\":\"UNKNOWN\",\n",
    "                         \"Illumination Description\":\"UNKNOWN\",\n",
    "                          \"Street Address\": \"UNKNOWN\",\n",
    "                        \"HarmfulCodes\":\"UNKNOWN\",\n",
    "                         \"HarmfulDescriptions\":\"UNKNOWN\",\n",
    "                        })\n",
    "nullcol(df_fill_na_cat)\n",
    "\n",
    "#drop Weather|IlluACCIDEmination"
   ]
  },
  {
   "cell_type": "markdown",
   "id": "f74e644c",
   "metadata": {},
   "source": [
    "## Drop Nulls:"
   ]
  },
  {
   "cell_type": "code",
   "execution_count": 122,
   "id": "a1037d6d",
   "metadata": {},
   "outputs": [],
   "source": [
    "columns_to_drop = [\"Weather\", \"IlluACCIDEmination\",\"Collision Type\"]\n",
    "df_drop_null_columns = df_fill_na_cat.drop(*columns_to_drop)"
   ]
  },
  {
   "cell_type": "code",
   "execution_count": 123,
   "id": "3c501523",
   "metadata": {},
   "outputs": [
    {
     "name": "stdout",
     "output_type": "stream",
     "text": [
      "+---------------+-------------+------------------------+------------------+--------------------+---------------+-----------+--------------------------+-------------------+------------------------+--------------+----+-----+--------+---+----+------------+-------------------+--------+--------+---+-----------------+---+---+\n",
      "|Accident Number|Date and Time|Number of Motor Vehicles|Number of Injuries|Number of Fatalities|Property Damage|Hit and Run|Collision Type Description|Weather Description|Illumination Description|Street Address|City|State|Precinct|Lat|Long|HarmfulCodes|HarmfulDescriptions|ObjectId|Zip Code|RPA|Reporting Officer|  x|  y|\n",
      "+---------------+-------------+------------------------+------------------+--------------------+---------------+-----------+--------------------------+-------------------+------------------------+--------------+----+-----+--------+---+----+------------+-------------------+--------+--------+---+-----------------+---+---+\n",
      "|              0|            0|                       0|                 0|                   0|         198477|         14|                         0|                  0|                       0|             0|   4|    4|     110|  2|   2|           0|                  0|       0|     143|105|               15|  2|  2|\n",
      "+---------------+-------------+------------------------+------------------+--------------------+---------------+-----------+--------------------------+-------------------+------------------------+--------------+----+-----+--------+---+----+------------+-------------------+--------+--------+---+-----------------+---+---+\n",
      "\n"
     ]
    }
   ],
   "source": [
    "nullcol(df_drop_null_columns)"
   ]
  },
  {
   "cell_type": "code",
   "execution_count": 124,
   "id": "cdc20548",
   "metadata": {},
   "outputs": [
    {
     "data": {
      "text/plain": [
       "216117"
      ]
     },
     "execution_count": 124,
     "metadata": {},
     "output_type": "execute_result"
    }
   ],
   "source": [
    "df_drop_null_columns.count()"
   ]
  },
  {
   "cell_type": "code",
   "execution_count": 125,
   "id": "4b8b02cb",
   "metadata": {},
   "outputs": [
    {
     "name": "stdout",
     "output_type": "stream",
     "text": [
      "+---------------------------------------+---------------+-----+\n",
      "|Collision Type Description             |Property Damage|count|\n",
      "+---------------------------------------+---------------+-----+\n",
      "|ANGLE                                  |NULL           |52536|\n",
      "|ANGLE                                  |Y              |1679 |\n",
      "|Front to Rear                          |Y              |696  |\n",
      "|Front to Rear                          |NULL           |65571|\n",
      "|HEAD-ON                                |Y              |224  |\n",
      "|HEAD-ON                                |NULL           |5031 |\n",
      "|NOT COLLISION W/MOTOR VEHICLE-TRANSPORT|Y              |13531|\n",
      "|NOT COLLISION W/MOTOR VEHICLE-TRANSPORT|NULL           |23004|\n",
      "|NOT COLLISION W/MOTOR VEHICLE-TRANSPORT|N              |1    |\n",
      "|OTHER                                  |Y              |95   |\n",
      "|OTHER                                  |NULL           |2221 |\n",
      "|REAR END                               |NULL           |1    |\n",
      "|REAR-TO-REAR                           |NULL           |956  |\n",
      "|REAR-TO-REAR                           |Y              |19   |\n",
      "|Rear to Side                           |Y              |19   |\n",
      "|Rear to Side                           |NULL           |1144 |\n",
      "|SIDESWIPE - OPPOSITE DIRECTION         |Y              |151  |\n",
      "|SIDESWIPE - OPPOSITE DIRECTION         |NULL           |4320 |\n",
      "|SIDESWIPE - SAME DIRECTION             |Y              |562  |\n",
      "|SIDESWIPE - SAME DIRECTION             |NULL           |28340|\n",
      "|UNKNOWN                                |Y              |663  |\n",
      "|UNKNOWN                                |NULL           |15353|\n",
      "+---------------------------------------+---------------+-----+\n",
      "\n"
     ]
    }
   ],
   "source": [
    "df_drop_null_columns.groupBy(\"Collision Type Description\", \"Property Damage\").count().orderBy(\"Collision Type Description\").show(30,truncate=False)"
   ]
  },
  {
   "cell_type": "code",
   "execution_count": 130,
   "id": "0e00d9ee",
   "metadata": {},
   "outputs": [
    {
     "name": "stdout",
     "output_type": "stream",
     "text": [
      "+---------------+-------------+------------------------+------------------+--------------------+---------------+-----------+--------------------------+-------------------+------------------------+--------------+----+-----+--------+---+----+------------+-------------------+--------+--------+---+-----------------+---+---+\n",
      "|Accident Number|Date and Time|Number of Motor Vehicles|Number of Injuries|Number of Fatalities|Property Damage|Hit and Run|Collision Type Description|Weather Description|Illumination Description|Street Address|City|State|Precinct|Lat|Long|HarmfulCodes|HarmfulDescriptions|ObjectId|Zip Code|RPA|Reporting Officer|  x|  y|\n",
      "+---------------+-------------+------------------------+------------------+--------------------+---------------+-----------+--------------------------+-------------------+------------------------+--------------+----+-----+--------+---+----+------------+-------------------+--------+--------+---+-----------------+---+---+\n",
      "|              0|            0|                       0|                 0|                   0|         198477|         14|                         0|                  0|                       0|             0|   4|    4|     110|  2|   2|           0|                  0|       0|     143|105|               15|  2|  2|\n",
      "+---------------+-------------+------------------------+------------------+--------------------+---------------+-----------+--------------------------+-------------------+------------------------+--------------+----+-----+--------+---+----+------------+-------------------+--------+--------+---+-----------------+---+---+\n",
      "\n"
     ]
    }
   ],
   "source": [
    "nullcol(df_drop_null_columns)"
   ]
  },
  {
   "cell_type": "markdown",
   "id": "57ca42f3",
   "metadata": {},
   "source": [
    "## Handeling Nulls in Property Damage inrespective to \"Collision Type Description\":"
   ]
  },
  {
   "cell_type": "code",
   "execution_count": 131,
   "id": "7abed1e9",
   "metadata": {},
   "outputs": [],
   "source": [
    "df_drop_null_columns.createOrReplaceTempView(\"PropertyDamage\")\n",
    "df_handle_property_damage = spark.sql(\"\"\"\n",
    "SELECT \n",
    "    *,\n",
    "    CASE \n",
    "        WHEN `Property Damage` IS NOT NULL THEN `Property Damage`\n",
    "        WHEN `Collision Type Description` IN (\n",
    "            'REAR-TO-REAR', 'Front to Rear', 'HEAD-ON', \n",
    "            'ANGLE', 'Rear to Side', 'NOT COLLISION W/MOTOR VEHICLE-TRANSPORT'\n",
    "        ) THEN 'Yes'\n",
    "        WHEN `Collision Type Description` = 'SIDESWIPE - OPPOSITE DIRECTION' THEN 'Possible'\n",
    "        ELSE 'No'\n",
    "    END AS `Property Damage Imputed`\n",
    "FROM PropertyDamage\n",
    "\"\"\")"
   ]
  },
  {
   "cell_type": "code",
   "execution_count": 132,
   "id": "4eb4f650",
   "metadata": {},
   "outputs": [
    {
     "name": "stdout",
     "output_type": "stream",
     "text": [
      "+---------------+-------------+------------------------+------------------+--------------------+---------------+-----------+--------------------------+-------------------+------------------------+--------------+----+-----+--------+---+----+------------+-------------------+--------+--------+---+-----------------+---+---+-----------------------+\n",
      "|Accident Number|Date and Time|Number of Motor Vehicles|Number of Injuries|Number of Fatalities|Property Damage|Hit and Run|Collision Type Description|Weather Description|Illumination Description|Street Address|City|State|Precinct|Lat|Long|HarmfulCodes|HarmfulDescriptions|ObjectId|Zip Code|RPA|Reporting Officer|  x|  y|Property Damage Imputed|\n",
      "+---------------+-------------+------------------------+------------------+--------------------+---------------+-----------+--------------------------+-------------------+------------------------+--------------+----+-----+--------+---+----+------------+-------------------+--------+--------+---+-----------------+---+---+-----------------------+\n",
      "|              0|            0|                       0|                 0|                   0|         198477|         14|                         0|                  0|                       0|             0|   4|    4|     110|  2|   2|           0|                  0|       0|     143|105|               15|  2|  2|                      0|\n",
      "+---------------+-------------+------------------------+------------------+--------------------+---------------+-----------+--------------------------+-------------------+------------------------+--------------+----+-----+--------+---+----+------------+-------------------+--------+--------+---+-----------------+---+---+-----------------------+\n",
      "\n"
     ]
    }
   ],
   "source": [
    "nullcol(df_handle_property_damage)"
   ]
  },
  {
   "cell_type": "code",
   "execution_count": 134,
   "id": "3c4515c8",
   "metadata": {},
   "outputs": [],
   "source": [
    "df_drop_property_damage = df_handle_property_damage.drop(\"Property Damage\")"
   ]
  },
  {
   "cell_type": "code",
   "execution_count": 135,
   "id": "a58843ed",
   "metadata": {},
   "outputs": [
    {
     "name": "stdout",
     "output_type": "stream",
     "text": [
      "+---------------+-------------+------------------------+------------------+--------------------+-----------+--------------------------+-------------------+------------------------+--------------+----+-----+--------+---+----+------------+-------------------+--------+--------+---+-----------------+---+---+-----------------------+\n",
      "|Accident Number|Date and Time|Number of Motor Vehicles|Number of Injuries|Number of Fatalities|Hit and Run|Collision Type Description|Weather Description|Illumination Description|Street Address|City|State|Precinct|Lat|Long|HarmfulCodes|HarmfulDescriptions|ObjectId|Zip Code|RPA|Reporting Officer|  x|  y|Property Damage Imputed|\n",
      "+---------------+-------------+------------------------+------------------+--------------------+-----------+--------------------------+-------------------+------------------------+--------------+----+-----+--------+---+----+------------+-------------------+--------+--------+---+-----------------+---+---+-----------------------+\n",
      "|              0|            0|                       0|                 0|                   0|         14|                         0|                  0|                       0|             0|   4|    4|     110|  2|   2|           0|                  0|       0|     143|105|               15|  2|  2|                      0|\n",
      "+---------------+-------------+------------------------+------------------+--------------------+-----------+--------------------------+-------------------+------------------------+--------------+----+-----+--------+---+----+------------+-------------------+--------+--------+---+-----------------+---+---+-----------------------+\n",
      "\n"
     ]
    }
   ],
   "source": [
    "nullcol(df_drop_property_damage)"
   ]
  },
  {
   "cell_type": "code",
   "execution_count": 136,
   "id": "d0aebaab",
   "metadata": {},
   "outputs": [],
   "source": [
    "df_rename_property_damage = df_drop_property_damage.withColumnRenamed(\"Property Damage Imputed\", \"Property Damage\")"
   ]
  },
  {
   "cell_type": "code",
   "execution_count": 137,
   "id": "b74a1966",
   "metadata": {},
   "outputs": [
    {
     "name": "stdout",
     "output_type": "stream",
     "text": [
      "+---------------+-------------+------------------------+------------------+--------------------+-----------+--------------------------+-------------------+------------------------+--------------+----+-----+--------+---+----+------------+-------------------+--------+--------+---+-----------------+---+---+---------------+\n",
      "|Accident Number|Date and Time|Number of Motor Vehicles|Number of Injuries|Number of Fatalities|Hit and Run|Collision Type Description|Weather Description|Illumination Description|Street Address|City|State|Precinct|Lat|Long|HarmfulCodes|HarmfulDescriptions|ObjectId|Zip Code|RPA|Reporting Officer|  x|  y|Property Damage|\n",
      "+---------------+-------------+------------------------+------------------+--------------------+-----------+--------------------------+-------------------+------------------------+--------------+----+-----+--------+---+----+------------+-------------------+--------+--------+---+-----------------+---+---+---------------+\n",
      "|              0|            0|                       0|                 0|                   0|         14|                         0|                  0|                       0|             0|   4|    4|     110|  2|   2|           0|                  0|       0|     143|105|               15|  2|  2|              0|\n",
      "+---------------+-------------+------------------------+------------------+--------------------+-----------+--------------------------+-------------------+------------------------+--------------+----+-----+--------+---+----+------------+-------------------+--------+--------+---+-----------------+---+---+---------------+\n",
      "\n"
     ]
    }
   ],
   "source": [
    "nullcol(df_rename_property_damage)"
   ]
  },
  {
   "cell_type": "code",
   "execution_count": null,
   "id": "4c0f0e12",
   "metadata": {},
   "outputs": [],
   "source": [
    "df_rename_property_damage.select(df['Property Damage']).where(col('Property Damage') == 'Y').count()"
   ]
  },
  {
   "cell_type": "code",
   "execution_count": null,
   "id": "06516b91",
   "metadata": {},
   "outputs": [],
   "source": [
    "df_rename_property_damage.select(df['Property Damage']).where(col('Property Damage') == 'N').count()"
   ]
  },
  {
   "cell_type": "code",
   "execution_count": 138,
   "id": "21dc12e3",
   "metadata": {},
   "outputs": [],
   "source": [
    "df_yes_no_property_damage = df_rename_property_damage.withColumn(\n",
    "    \"Property Damage\",\n",
    "    when(col(\"Property Damage\") == \"Y\", \"Yes\")\n",
    "    .when(col(\"Property Damage\") == \"N\", \"No\")\n",
    "    .otherwise(col(\"Property Damage\")))"
   ]
  },
  {
   "cell_type": "code",
   "execution_count": 139,
   "id": "fe879bbe",
   "metadata": {},
   "outputs": [
    {
     "data": {
      "text/plain": [
       "216117"
      ]
     },
     "execution_count": 139,
     "metadata": {},
     "output_type": "execute_result"
    }
   ],
   "source": [
    "df_yes_no_property_damage.count()"
   ]
  },
  {
   "cell_type": "code",
   "execution_count": 140,
   "id": "f3ec9a47",
   "metadata": {},
   "outputs": [
    {
     "name": "stdout",
     "output_type": "stream",
     "text": [
      "+---------------+-------------+------------------------+------------------+--------------------+-----------+--------------------------+-------------------+------------------------+--------------+----+-----+--------+---+----+------------+-------------------+--------+--------+---+-----------------+---+---+---------------+\n",
      "|Accident Number|Date and Time|Number of Motor Vehicles|Number of Injuries|Number of Fatalities|Hit and Run|Collision Type Description|Weather Description|Illumination Description|Street Address|City|State|Precinct|Lat|Long|HarmfulCodes|HarmfulDescriptions|ObjectId|Zip Code|RPA|Reporting Officer|  x|  y|Property Damage|\n",
      "+---------------+-------------+------------------------+------------------+--------------------+-----------+--------------------------+-------------------+------------------------+--------------+----+-----+--------+---+----+------------+-------------------+--------+--------+---+-----------------+---+---+---------------+\n",
      "|              0|            0|                       0|                 0|                   0|         14|                         0|                  0|                       0|             0|   4|    4|     110|  2|   2|           0|                  0|       0|     143|105|               15|  2|  2|              0|\n",
      "+---------------+-------------+------------------------+------------------+--------------------+-----------+--------------------------+-------------------+------------------------+--------------+----+-----+--------+---+----+------------+-------------------+--------+--------+---+-----------------+---+---+---------------+\n",
      "\n"
     ]
    }
   ],
   "source": [
    "nullcol(df_yes_no_property_damage)"
   ]
  },
  {
   "cell_type": "code",
   "execution_count": 141,
   "id": "8d2b2126",
   "metadata": {},
   "outputs": [],
   "source": [
    "df_cleaned = df_yes_no_property_damage.dropna()"
   ]
  },
  {
   "cell_type": "code",
   "execution_count": 142,
   "id": "209613bc",
   "metadata": {},
   "outputs": [
    {
     "data": {
      "text/plain": [
       "215939"
      ]
     },
     "execution_count": 142,
     "metadata": {},
     "output_type": "execute_result"
    }
   ],
   "source": [
    "df_cleaned.count()"
   ]
  },
  {
   "cell_type": "code",
   "execution_count": 143,
   "id": "ca08a3b0",
   "metadata": {},
   "outputs": [
    {
     "name": "stdout",
     "output_type": "stream",
     "text": [
      "+---------------+-------------+------------------------+------------------+--------------------+-----------+--------------------------+-------------------+------------------------+--------------+----+-----+--------+---+----+------------+-------------------+--------+--------+---+-----------------+---+---+---------------+\n",
      "|Accident Number|Date and Time|Number of Motor Vehicles|Number of Injuries|Number of Fatalities|Hit and Run|Collision Type Description|Weather Description|Illumination Description|Street Address|City|State|Precinct|Lat|Long|HarmfulCodes|HarmfulDescriptions|ObjectId|Zip Code|RPA|Reporting Officer|  x|  y|Property Damage|\n",
      "+---------------+-------------+------------------------+------------------+--------------------+-----------+--------------------------+-------------------+------------------------+--------------+----+-----+--------+---+----+------------+-------------------+--------+--------+---+-----------------+---+---+---------------+\n",
      "|              0|            0|                       0|                 0|                   0|          0|                         0|                  0|                       0|             0|   0|    0|       0|  0|   0|           0|                  0|       0|       0|  0|                0|  0|  0|              0|\n",
      "+---------------+-------------+------------------------+------------------+--------------------+-----------+--------------------------+-------------------+------------------------+--------------+----+-----+--------+---+----+------------+-------------------+--------+--------+---+-----------------+---+---+---------------+\n",
      "\n"
     ]
    }
   ],
   "source": [
    "nullcol(df_cleaned)"
   ]
  },
  {
   "cell_type": "code",
   "execution_count": 144,
   "id": "2e0223a8",
   "metadata": {},
   "outputs": [
    {
     "name": "stdout",
     "output_type": "stream",
     "text": [
      "+---------------+---------------------+------------------------+------------------+--------------------+-----------+---------------------------------------+---------------------+------------------------+-----------------------------------+---------+-----+--------+----------+----------+------------+-----------------------------------------------+--------+--------+-----+-----------------+-------------+------------+---------------+\n",
      "|Accident Number|Date and Time        |Number of Motor Vehicles|Number of Injuries|Number of Fatalities|Hit and Run|Collision Type Description             |Weather Description  |Illumination Description|Street Address                     |City     |State|Precinct|Lat       |Long      |HarmfulCodes|HarmfulDescriptions                            |ObjectId|Zip Code|RPA  |Reporting Officer|x            |y           |Property Damage|\n",
      "+---------------+---------------------+------------------------+------------------+--------------------+-----------+---------------------------------------+---------------------+------------------------+-----------------------------------+---------+-----+--------+----------+----------+------------+-----------------------------------------------+--------+--------+-----+-----------------+-------------+------------+---------------+\n",
      "|2008473471     |7/14/2018 11:00:00 PM|2                       |2                 |0                   |N          |ANGLE                                  |NO ADVERSE CONDITIONS|UNKNOWN                 |28TH AVE N & JEFFERSON ST          |NASHVILLE|TN   |NORTH   |36.1678515|-86.820759|UNKNOWN     |UNKNOWN                                        |1       |37208   |4525 |225845           |-9664842.6822|4323742.1271|Yes            |\n",
      "|2008787228     |11/16/2018 9:33:00 AM|1                       |1                 |0                   |N          |NOT COLLISION W/MOTOR VEHICLE-TRANSPORT|NO ADVERSE CONDITIONS|UNKNOWN                 |DR D B TODD JR BLVD & PEARL ST     |NASHVILLE|TN   |NORTH   |36.1592612|-86.801016|UNKNOWN     |UNKNOWN                                        |2       |37203   |5401 |475881           |-9662644.9015|4322557.6537|Yes            |\n",
      "|20120135824    |3/8/2021 6:05:00 PM  |2                       |1                 |0                   |N          |Front to Rear                          |CLEAR                |DAYLIGHT                |W TRINITY LN & E TRINITY LN        |NASHVILLE|TN   |EAST    |36.20592  |-86.76898 |12          |MOTOR VEHICLE IN TRANSPORT                     |5       |37207   |1863 |473670           |-9659078.6703|4328992.7652|Yes            |\n",
      "|20130207124    |7/23/2019 3:46:00 PM |2                       |0                 |0                   |N          |Front to Rear                          |CLEAR                |DAYLIGHT                |MM 7 2 I 440                       |NASHVILLE|TN   |SOUTH   |36.12547  |-86.73329 |12          |MOTOR VEHICLE IN TRANSPORT                     |6       |37210   |83043|716886           |-9655105.6776|4317899.6131|Yes            |\n",
      "|20130311458    |8/23/2023 1:00:00 PM |2                       |0                 |0                   |N          |SIDESWIPE - SAME DIRECTION             |CLEAR                |DAYLIGHT                |MM 48 8 I 24                       |NASHVILLE|TN   |CENTRA  |36.16879  |-86.76631 |12          |MOTOR VEHICLE IN TRANSPORT                     |7       |37213   |1104 |834807           |-9658781.4472|4323871.54  |No             |\n",
      "|20150316352    |4/9/2018 2:19:00 AM  |2                       |0                 |0                   |Y          |ANGLE                                  |CLEAR                |DARK - LIGHTED          |MM 62 4 I 24                       |ANTIOCH  |TN   |SOUTH   |36.01645  |-86.62305 |12;39       |MOTOR VEHICLE IN TRANSPORT;WALL                |9       |37013   |8806 |110090           |-9642833.817 |4302885.1028|Yes            |\n",
      "|20150550257    |7/23/2019 11:40:00 PM|2                       |1                 |0                   |N          |ANGLE                                  |CLOUDY               |DAYLIGHT                |NOLENSVILLE PKE & HARRISON ST      |NASHVILLE|TN   |SOUTH   |36.09856  |-86.73893 |12          |MOTOR VEHICLE IN TRANSPORT                     |10      |37211   |8431 |420040           |-9655733.5196|4314191.5645|Yes            |\n",
      "|20170000819    |1/1/2018 2:45:00 PM  |1                       |1                 |0                   |N          |NOT COLLISION W/MOTOR VEHICLE-TRANSPORT|CLEAR                |DAYLIGHT                |OLD HICKORY BLVD & MARYDALE DR     |NASHVILLE|TN   |MADISO  |36.27071  |-86.76002 |32          |CULVERT                                        |11      |37207   |2025 |332253           |-9658081.2476|4337934.8703|Yes            |\n",
      "|20170007441    |1/3/2018 3:01:00 PM  |2                       |0                 |0                   |N          |Front to Rear                          |CLEAR                |DAYLIGHT                |WEST END AV & PARK DR              |NASHVILLE|TN   |MIDTOW  |36.13967  |-86.81874 |55          |Motor Vehicle-In-Motion Outside Trafficw       |12      |37212   |5817 |544482           |-9664617.9281|4319856.8066|Yes            |\n",
      "|20170020701    |1/7/2018 1:44:00 PM  |1                       |2                 |0                   |N          |NOT COLLISION W/MOTOR VEHICLE-TRANSPORT|CLEAR                |DAYLIGHT                |I24 E EXT RAMP & I 24              |NASHVILLE|TN   |NORTH   |36.04589  |-86.66055 |1;24        |GUARDRAIL FACE                                 |13      |37207   |30080|474557           |-9647008.2979|4306937.6039|Yes            |\n",
      "|20170035976    |1/11/2018 11:59:00 PM|2                       |0                 |0                   |N          |ANGLE                                  |CLOUDY               |DARK - LIGHTED          |LYNWOOD AV & 8TH AVS               |NASHVILLE|TN   |MIDTOW  |36.13832  |-86.7785  |12          |MOTOR VEHICLE IN TRANSPORT                     |14      |37203   |6941 |191570           |-9660138.4318|4319670.7202|Yes            |\n",
      "|20170132398    |2/9/2018 7:27:00 PM  |2                       |1                 |0                   |N          |ANGLE                                  |CLEAR                |DAYLIGHT                |MCGAVOCK PKE & ARDEE AV            |NASHVILLE|TN   |EAST    |36.20959  |-86.71359 |12          |MOTOR VEHICLE IN TRANSPORT                     |15      |37216   |1449 |224437           |-9652912.6837|4329499.0887|Yes            |\n",
      "|20170170810    |2/22/2018 12:50:00 AM|2                       |0                 |0                   |N          |SIDESWIPE - SAME DIRECTION             |CLOUDY               |DARK - LIGHTED          |MM 54 8 I 24                       |NASHVILLE|TN   |SOUTH   |36.09703  |-86.709   |12          |MOTOR VEHICLE IN TRANSPORT                     |16      |37211   |8812 |633370           |-9652401.7272|4313980.7772|No             |\n",
      "|20170243406    |3/16/2018 12:27:00 PM|2                       |0                 |0                   |N          |ANGLE                                  |CLEAR                |DAYLIGHT                |21ST AVN & MURPHY AV               |NASHVILLE|TN   |MIDTOW  |36.15559  |-86.80505 |12          |MOTOR VEHICLE IN TRANSPORT                     |17      |37203   |5507 |544482           |-9663093.9643|4322051.4899|Yes            |\n",
      "|20170433573    |6/29/2019 9:45:00 PM |3                       |1                 |0                   |N          |Front to Rear                          |CLEAR                |DAYLIGHT                |SMITH SPRINGS RD & CLEARLAKE DRW   |NASHVILLE|TN   |HERMIT  |36.08903  |-86.61407 |12          |MOTOR VEHICLE IN TRANSPORT                     |18      |37217   |8929 |256424           |-9641834.1679|4312878.6879|Yes            |\n",
      "|20170467982    |5/29/2018 2:30:00 AM |2                       |3                 |0                   |N          |ANGLE                                  |CLEAR                |DARK - LIGHTED          |4TH AVS & I40 W EXT RAMP           |NASHVILLE|TN   |CENTRA  |36.1509   |-86.77064 |12;30       |MOTOR VEHICLE IN TRANSPORT;UTILITY POLE        |19      |37203   |4007 |240943           |-9659263.4606|4321404.8943|Yes            |\n",
      "|20170728702    |8/25/2018 10:12:00 AM|2                       |0                 |1                   |N          |HEAD-ON                                |CLEAR                |DARK - NOT LIGHTED      |MURFREESBORO PKE & PARKS RETREAT DR|ANTIOCH  |TN   |SOUTH   |36.031    |-86.59346 |12          |MOTOR VEHICLE IN TRANSPORT                     |20      |37013   |8869 |345098           |-9639539.8732|4304887.7631|Yes            |\n",
      "|20171074492    |5/8/2018 6:45:00 PM  |1                       |1                 |0                   |N          |UNKNOWN                                |CLEAR                |DAYLIGHT                |143 GORDON TER                     |NASHVILLE|TN   |EAST    |36.21101  |-86.76008 |99          |UNKNOWN MOST HARMFUL EVENT                     |21      |37207   |1831 |197047           |-9658087.9268|4329695.0023|No             |\n",
      "|20180000079    |1/1/2018 6:26:00 AM  |2                       |0                 |0                   |N          |SIDESWIPE - SAME DIRECTION             |CLEAR                |DARK - LIGHTED          |BROADWAY & 7TH AVN                 |NASHVILLE|TN   |CENTRA  |36.15941  |-86.78091 |12          |MOTOR VEHICLE IN TRANSPORT                     |22      |37203   |4085 |279117           |-9660406.7118|4322578.1699|No             |\n",
      "|20180000088    |1/1/2018 6:25:00 AM  |3                       |0                 |0                   |Y          |SIDESWIPE - SAME DIRECTION             |CLEAR                |DARK - LIGHTED          |COUGAR DR & WILCLAY DR             |NASHVILLE|TN   |WEST    |36.1447   |-86.87773 |14;19;64    |PARKED MOTOR VEHICLE;BUILDING;Ran Off Road-Left|23      |37209   |5023 |226175           |-9671184.6649|4320550.1791|No             |\n",
      "+---------------+---------------------+------------------------+------------------+--------------------+-----------+---------------------------------------+---------------------+------------------------+-----------------------------------+---------+-----+--------+----------+----------+------------+-----------------------------------------------+--------+--------+-----+-----------------+-------------+------------+---------------+\n",
      "only showing top 20 rows\n",
      "\n"
     ]
    }
   ],
   "source": [
    "df_cleaned.show(truncate=False)"
   ]
  },
  {
   "cell_type": "code",
   "execution_count": 145,
   "id": "79db75f7",
   "metadata": {},
   "outputs": [
    {
     "name": "stdout",
     "output_type": "stream",
     "text": [
      "root\n",
      " |-- Accident Number: long (nullable = true)\n",
      " |-- Date and Time: string (nullable = true)\n",
      " |-- Number of Motor Vehicles: integer (nullable = true)\n",
      " |-- Number of Injuries: integer (nullable = true)\n",
      " |-- Number of Fatalities: integer (nullable = true)\n",
      " |-- Hit and Run: string (nullable = true)\n",
      " |-- Collision Type Description: string (nullable = false)\n",
      " |-- Weather Description: string (nullable = false)\n",
      " |-- Illumination Description: string (nullable = false)\n",
      " |-- Street Address: string (nullable = false)\n",
      " |-- City: string (nullable = true)\n",
      " |-- State: string (nullable = true)\n",
      " |-- Precinct: string (nullable = true)\n",
      " |-- Lat: double (nullable = true)\n",
      " |-- Long: double (nullable = true)\n",
      " |-- HarmfulCodes: string (nullable = false)\n",
      " |-- HarmfulDescriptions: string (nullable = false)\n",
      " |-- ObjectId: integer (nullable = true)\n",
      " |-- Zip Code: integer (nullable = true)\n",
      " |-- RPA: integer (nullable = true)\n",
      " |-- Reporting Officer: integer (nullable = true)\n",
      " |-- x: double (nullable = true)\n",
      " |-- y: double (nullable = true)\n",
      " |-- Property Damage: string (nullable = true)\n",
      "\n"
     ]
    }
   ],
   "source": [
    "df_cleaned.printSchema()"
   ]
  },
  {
   "cell_type": "markdown",
   "id": "c4d2dda8",
   "metadata": {},
   "source": [
    "## Extract DateTime data:"
   ]
  },
  {
   "cell_type": "code",
   "execution_count": 146,
   "id": "5911112c",
   "metadata": {},
   "outputs": [],
   "source": [
    "df2 = df_cleaned.withColumn(\"PM/AM\", fn.substring(col(\"Date and Time\"),-2,2))"
   ]
  },
  {
   "cell_type": "code",
   "execution_count": 147,
   "id": "e0ff6174",
   "metadata": {},
   "outputs": [],
   "source": [
    "df2 = df2.withColumn(\"Date and Time\", to_timestamp(\"Date and Time\", \"M/d/yyyy h:mm:ss a\"))"
   ]
  },
  {
   "cell_type": "code",
   "execution_count": 148,
   "id": "574e4455",
   "metadata": {},
   "outputs": [],
   "source": [
    "df_final = df2.withColumn(\"year\", year(\"Date and Time\")) \\\n",
    "       .withColumn(\"month\", month(\"Date and Time\"))\\\n",
    "       .withColumn(\"day\", dayofmonth(\"Date and Time\"))\\\n",
    "       .withColumn(\"Time\", date_format(\"Date and Time\", \"HH:mm:ss\"))\\\n",
    "       .withColumn(\"hour\", hour(\"Date and Time\")) \\\n",
    "       .withColumn(\"minutes\", minute(\"Date and Time\"))"
   ]
  },
  {
   "cell_type": "code",
   "execution_count": 149,
   "id": "0c922548",
   "metadata": {},
   "outputs": [
    {
     "data": {
      "text/plain": [
       "['Accident Number',\n",
       " 'Date and Time',\n",
       " 'Number of Motor Vehicles',\n",
       " 'Number of Injuries',\n",
       " 'Number of Fatalities',\n",
       " 'Hit and Run',\n",
       " 'Collision Type Description',\n",
       " 'Weather Description',\n",
       " 'Illumination Description',\n",
       " 'Street Address',\n",
       " 'City',\n",
       " 'State',\n",
       " 'Precinct',\n",
       " 'Lat',\n",
       " 'Long',\n",
       " 'HarmfulCodes',\n",
       " 'HarmfulDescriptions',\n",
       " 'ObjectId',\n",
       " 'Zip Code',\n",
       " 'RPA',\n",
       " 'Reporting Officer',\n",
       " 'x',\n",
       " 'y',\n",
       " 'Property Damage',\n",
       " 'PM/AM',\n",
       " 'year',\n",
       " 'month',\n",
       " 'day',\n",
       " 'Time',\n",
       " 'hour',\n",
       " 'minutes']"
      ]
     },
     "execution_count": 149,
     "metadata": {},
     "output_type": "execute_result"
    }
   ],
   "source": [
    "df_final.columns"
   ]
  },
  {
   "cell_type": "code",
   "execution_count": 150,
   "id": "1c5dbedb",
   "metadata": {},
   "outputs": [],
   "source": [
    "df_final = df_final.select(['Accident Number',\n",
    " 'Date and Time',\n",
    " 'year',\n",
    " 'month',\n",
    " 'day',\n",
    " 'Time',\n",
    " 'hour',\n",
    " 'minutes',\n",
    " 'PM/AM',\n",
    " 'Number of Motor Vehicles',\n",
    " 'Number of Injuries',\n",
    " 'Number of Fatalities',\n",
    " 'Property Damage',\n",
    " 'Hit and Run',\n",
    " 'Collision Type Description',\n",
    " 'Weather Description',\n",
    " 'Illumination Description',\n",
    " 'Street Address',\n",
    " 'City',\n",
    " 'State',\n",
    " 'Precinct',\n",
    " 'Lat',\n",
    " 'Long',\n",
    " 'HarmfulCodes',\n",
    " 'HarmfulDescriptions',\n",
    " 'ObjectId',\n",
    " 'Zip Code',\n",
    " 'RPA',\n",
    " 'Reporting Officer',\n",
    " 'x',\n",
    " 'y'\n",
    " ])"
   ]
  },
  {
   "cell_type": "code",
   "execution_count": 151,
   "id": "8419bdf2",
   "metadata": {},
   "outputs": [
    {
     "name": "stdout",
     "output_type": "stream",
     "text": [
      "+---------------+-------------------+----+-----+---+--------+----+-------+-----+------------------------+------------------+--------------------+---------------+-----------+--------------------------+--------------------+------------------------+--------------------+---------+-----+--------+----------+----------+------------+--------------------+--------+--------+-----+-----------------+-------------+------------+\n",
      "|Accident Number|      Date and Time|year|month|day|    Time|hour|minutes|PM/AM|Number of Motor Vehicles|Number of Injuries|Number of Fatalities|Property Damage|Hit and Run|Collision Type Description| Weather Description|Illumination Description|      Street Address|     City|State|Precinct|       Lat|      Long|HarmfulCodes| HarmfulDescriptions|ObjectId|Zip Code|  RPA|Reporting Officer|            x|           y|\n",
      "+---------------+-------------------+----+-----+---+--------+----+-------+-----+------------------------+------------------+--------------------+---------------+-----------+--------------------------+--------------------+------------------------+--------------------+---------+-----+--------+----------+----------+------------+--------------------+--------+--------+-----+-----------------+-------------+------------+\n",
      "|     2008473471|2018-07-14 23:00:00|2018|    7| 14|23:00:00|  23|      0|   PM|                       2|                 2|                   0|            Yes|          N|                     ANGLE|NO ADVERSE CONDIT...|                 UNKNOWN|28TH AVE N & JEFF...|NASHVILLE|   TN|   NORTH|36.1678515|-86.820759|     UNKNOWN|             UNKNOWN|       1|   37208| 4525|           225845|-9664842.6822|4323742.1271|\n",
      "|     2008787228|2018-11-16 09:33:00|2018|   11| 16|09:33:00|   9|     33|   AM|                       1|                 1|                   0|            Yes|          N|      NOT COLLISION W/M...|NO ADVERSE CONDIT...|                 UNKNOWN|DR D B TODD JR BL...|NASHVILLE|   TN|   NORTH|36.1592612|-86.801016|     UNKNOWN|             UNKNOWN|       2|   37203| 5401|           475881|-9662644.9015|4322557.6537|\n",
      "|    20120135824|2021-03-08 18:05:00|2021|    3|  8|18:05:00|  18|      5|   PM|                       2|                 1|                   0|            Yes|          N|             Front to Rear|               CLEAR|                DAYLIGHT|W TRINITY LN & E ...|NASHVILLE|   TN|    EAST|  36.20592| -86.76898|          12|MOTOR VEHICLE IN ...|       5|   37207| 1863|           473670|-9659078.6703|4328992.7652|\n",
      "|    20130207124|2019-07-23 15:46:00|2019|    7| 23|15:46:00|  15|     46|   PM|                       2|                 0|                   0|            Yes|          N|             Front to Rear|               CLEAR|                DAYLIGHT|        MM 7 2 I 440|NASHVILLE|   TN|   SOUTH|  36.12547| -86.73329|          12|MOTOR VEHICLE IN ...|       6|   37210|83043|           716886|-9655105.6776|4317899.6131|\n",
      "|    20130311458|2023-08-23 13:00:00|2023|    8| 23|13:00:00|  13|      0|   PM|                       2|                 0|                   0|             No|          N|      SIDESWIPE - SAME ...|               CLEAR|                DAYLIGHT|        MM 48 8 I 24|NASHVILLE|   TN|  CENTRA|  36.16879| -86.76631|          12|MOTOR VEHICLE IN ...|       7|   37213| 1104|           834807|-9658781.4472|  4323871.54|\n",
      "|    20150316352|2018-04-09 02:19:00|2018|    4|  9|02:19:00|   2|     19|   AM|                       2|                 0|                   0|            Yes|          Y|                     ANGLE|               CLEAR|          DARK - LIGHTED|        MM 62 4 I 24|  ANTIOCH|   TN|   SOUTH|  36.01645| -86.62305|       12;39|MOTOR VEHICLE IN ...|       9|   37013| 8806|           110090| -9642833.817|4302885.1028|\n",
      "|    20150550257|2019-07-23 23:40:00|2019|    7| 23|23:40:00|  23|     40|   PM|                       2|                 1|                   0|            Yes|          N|                     ANGLE|              CLOUDY|                DAYLIGHT|NOLENSVILLE PKE &...|NASHVILLE|   TN|   SOUTH|  36.09856| -86.73893|          12|MOTOR VEHICLE IN ...|      10|   37211| 8431|           420040|-9655733.5196|4314191.5645|\n",
      "|    20170000819|2018-01-01 14:45:00|2018|    1|  1|14:45:00|  14|     45|   PM|                       1|                 1|                   0|            Yes|          N|      NOT COLLISION W/M...|               CLEAR|                DAYLIGHT|OLD HICKORY BLVD ...|NASHVILLE|   TN|  MADISO|  36.27071| -86.76002|          32|             CULVERT|      11|   37207| 2025|           332253|-9658081.2476|4337934.8703|\n",
      "|    20170007441|2018-01-03 15:01:00|2018|    1|  3|15:01:00|  15|      1|   PM|                       2|                 0|                   0|            Yes|          N|             Front to Rear|               CLEAR|                DAYLIGHT|WEST END AV & PAR...|NASHVILLE|   TN|  MIDTOW|  36.13967| -86.81874|          55|Motor Vehicle-In-...|      12|   37212| 5817|           544482|-9664617.9281|4319856.8066|\n",
      "|    20170020701|2018-01-07 13:44:00|2018|    1|  7|13:44:00|  13|     44|   PM|                       1|                 2|                   0|            Yes|          N|      NOT COLLISION W/M...|               CLEAR|                DAYLIGHT|I24 E EXT RAMP & ...|NASHVILLE|   TN|   NORTH|  36.04589| -86.66055|        1;24|      GUARDRAIL FACE|      13|   37207|30080|           474557|-9647008.2979|4306937.6039|\n",
      "|    20170035976|2018-01-11 23:59:00|2018|    1| 11|23:59:00|  23|     59|   PM|                       2|                 0|                   0|            Yes|          N|                     ANGLE|              CLOUDY|          DARK - LIGHTED|LYNWOOD AV & 8TH AVS|NASHVILLE|   TN|  MIDTOW|  36.13832|  -86.7785|          12|MOTOR VEHICLE IN ...|      14|   37203| 6941|           191570|-9660138.4318|4319670.7202|\n",
      "|    20170132398|2018-02-09 19:27:00|2018|    2|  9|19:27:00|  19|     27|   PM|                       2|                 1|                   0|            Yes|          N|                     ANGLE|               CLEAR|                DAYLIGHT|MCGAVOCK PKE & AR...|NASHVILLE|   TN|    EAST|  36.20959| -86.71359|          12|MOTOR VEHICLE IN ...|      15|   37216| 1449|           224437|-9652912.6837|4329499.0887|\n",
      "|    20170170810|2018-02-22 00:50:00|2018|    2| 22|00:50:00|   0|     50|   AM|                       2|                 0|                   0|             No|          N|      SIDESWIPE - SAME ...|              CLOUDY|          DARK - LIGHTED|        MM 54 8 I 24|NASHVILLE|   TN|   SOUTH|  36.09703|   -86.709|          12|MOTOR VEHICLE IN ...|      16|   37211| 8812|           633370|-9652401.7272|4313980.7772|\n",
      "|    20170243406|2018-03-16 12:27:00|2018|    3| 16|12:27:00|  12|     27|   PM|                       2|                 0|                   0|            Yes|          N|                     ANGLE|               CLEAR|                DAYLIGHT|21ST AVN & MURPHY AV|NASHVILLE|   TN|  MIDTOW|  36.15559| -86.80505|          12|MOTOR VEHICLE IN ...|      17|   37203| 5507|           544482|-9663093.9643|4322051.4899|\n",
      "|    20170433573|2019-06-29 21:45:00|2019|    6| 29|21:45:00|  21|     45|   PM|                       3|                 1|                   0|            Yes|          N|             Front to Rear|               CLEAR|                DAYLIGHT|SMITH SPRINGS RD ...|NASHVILLE|   TN|  HERMIT|  36.08903| -86.61407|          12|MOTOR VEHICLE IN ...|      18|   37217| 8929|           256424|-9641834.1679|4312878.6879|\n",
      "|    20170467982|2018-05-29 02:30:00|2018|    5| 29|02:30:00|   2|     30|   AM|                       2|                 3|                   0|            Yes|          N|                     ANGLE|               CLEAR|          DARK - LIGHTED|4TH AVS & I40 W E...|NASHVILLE|   TN|  CENTRA|   36.1509| -86.77064|       12;30|MOTOR VEHICLE IN ...|      19|   37203| 4007|           240943|-9659263.4606|4321404.8943|\n",
      "|    20170728702|2018-08-25 10:12:00|2018|    8| 25|10:12:00|  10|     12|   AM|                       2|                 0|                   1|            Yes|          N|                   HEAD-ON|               CLEAR|      DARK - NOT LIGHTED|MURFREESBORO PKE ...|  ANTIOCH|   TN|   SOUTH|    36.031| -86.59346|          12|MOTOR VEHICLE IN ...|      20|   37013| 8869|           345098|-9639539.8732|4304887.7631|\n",
      "|    20171074492|2018-05-08 18:45:00|2018|    5|  8|18:45:00|  18|     45|   PM|                       1|                 1|                   0|             No|          N|                   UNKNOWN|               CLEAR|                DAYLIGHT|      143 GORDON TER|NASHVILLE|   TN|    EAST|  36.21101| -86.76008|          99|UNKNOWN MOST HARM...|      21|   37207| 1831|           197047|-9658087.9268|4329695.0023|\n",
      "|    20180000079|2018-01-01 06:26:00|2018|    1|  1|06:26:00|   6|     26|   AM|                       2|                 0|                   0|             No|          N|      SIDESWIPE - SAME ...|               CLEAR|          DARK - LIGHTED|  BROADWAY & 7TH AVN|NASHVILLE|   TN|  CENTRA|  36.15941| -86.78091|          12|MOTOR VEHICLE IN ...|      22|   37203| 4085|           279117|-9660406.7118|4322578.1699|\n",
      "|    20180000088|2018-01-01 06:25:00|2018|    1|  1|06:25:00|   6|     25|   AM|                       3|                 0|                   0|             No|          Y|      SIDESWIPE - SAME ...|               CLEAR|          DARK - LIGHTED|COUGAR DR & WILCL...|NASHVILLE|   TN|    WEST|   36.1447| -86.87773|    14;19;64|PARKED MOTOR VEHI...|      23|   37209| 5023|           226175|-9671184.6649|4320550.1791|\n",
      "+---------------+-------------------+----+-----+---+--------+----+-------+-----+------------------------+------------------+--------------------+---------------+-----------+--------------------------+--------------------+------------------------+--------------------+---------+-----+--------+----------+----------+------------+--------------------+--------+--------+-----+-----------------+-------------+------------+\n",
      "only showing top 20 rows\n",
      "\n"
     ]
    }
   ],
   "source": [
    "df_final.show()"
   ]
  },
  {
   "cell_type": "code",
   "execution_count": 152,
   "id": "32671a75",
   "metadata": {},
   "outputs": [
    {
     "name": "stdout",
     "output_type": "stream",
     "text": [
      "root\n",
      " |-- Accident Number: long (nullable = true)\n",
      " |-- Date and Time: timestamp (nullable = true)\n",
      " |-- year: integer (nullable = true)\n",
      " |-- month: integer (nullable = true)\n",
      " |-- day: integer (nullable = true)\n",
      " |-- Time: string (nullable = true)\n",
      " |-- hour: integer (nullable = true)\n",
      " |-- minutes: integer (nullable = true)\n",
      " |-- PM/AM: string (nullable = true)\n",
      " |-- Number of Motor Vehicles: integer (nullable = true)\n",
      " |-- Number of Injuries: integer (nullable = true)\n",
      " |-- Number of Fatalities: integer (nullable = true)\n",
      " |-- Property Damage: string (nullable = true)\n",
      " |-- Hit and Run: string (nullable = true)\n",
      " |-- Collision Type Description: string (nullable = false)\n",
      " |-- Weather Description: string (nullable = false)\n",
      " |-- Illumination Description: string (nullable = false)\n",
      " |-- Street Address: string (nullable = false)\n",
      " |-- City: string (nullable = true)\n",
      " |-- State: string (nullable = true)\n",
      " |-- Precinct: string (nullable = true)\n",
      " |-- Lat: double (nullable = true)\n",
      " |-- Long: double (nullable = true)\n",
      " |-- HarmfulCodes: string (nullable = false)\n",
      " |-- HarmfulDescriptions: string (nullable = false)\n",
      " |-- ObjectId: integer (nullable = true)\n",
      " |-- Zip Code: integer (nullable = true)\n",
      " |-- RPA: integer (nullable = true)\n",
      " |-- Reporting Officer: integer (nullable = true)\n",
      " |-- x: double (nullable = true)\n",
      " |-- y: double (nullable = true)\n",
      "\n"
     ]
    }
   ],
   "source": [
    "df_final.printSchema()"
   ]
  },
  {
   "cell_type": "code",
   "execution_count": 153,
   "id": "c91a9d83",
   "metadata": {},
   "outputs": [
    {
     "name": "stdout",
     "output_type": "stream",
     "text": [
      "+---------------+-------------+----+-----+---+----+----+-------+-----+------------------------+------------------+--------------------+---------------+-----------+--------------------------+-------------------+------------------------+--------------+----+-----+--------+---+----+------------+-------------------+--------+--------+---+-----------------+---+---+\n",
      "|Accident Number|Date and Time|year|month|day|Time|hour|minutes|PM/AM|Number of Motor Vehicles|Number of Injuries|Number of Fatalities|Property Damage|Hit and Run|Collision Type Description|Weather Description|Illumination Description|Street Address|City|State|Precinct|Lat|Long|HarmfulCodes|HarmfulDescriptions|ObjectId|Zip Code|RPA|Reporting Officer|  x|  y|\n",
      "+---------------+-------------+----+-----+---+----+----+-------+-----+------------------------+------------------+--------------------+---------------+-----------+--------------------------+-------------------+------------------------+--------------+----+-----+--------+---+----+------------+-------------------+--------+--------+---+-----------------+---+---+\n",
      "|              0|            0|   0|    0|  0|   0|   0|      0|    0|                       0|                 0|                   0|              0|          0|                         0|                  0|                       0|             0|   0|    0|       0|  0|   0|           0|                  0|       0|       0|  0|                0|  0|  0|\n",
      "+---------------+-------------+----+-----+---+----+----+-------+-----+------------------------+------------------+--------------------+---------------+-----------+--------------------------+-------------------+------------------------+--------------+----+-----+--------+---+----+------------+-------------------+--------+--------+---+-----------------+---+---+\n",
      "\n"
     ]
    }
   ],
   "source": [
    "nullcol(df_final)"
   ]
  },
  {
   "cell_type": "markdown",
   "id": "7488af1e",
   "metadata": {},
   "source": [
    "## Handle the comma ',' in Columns:"
   ]
  },
  {
   "cell_type": "code",
   "execution_count": 154,
   "id": "81cb0163",
   "metadata": {},
   "outputs": [],
   "source": [
    "string_columns = [field.name for field in df_final.schema.fields if isinstance(field.dataType, StringType)]\n",
    "\n",
    "for column in string_columns:\n",
    "    df_final = df_final.withColumn(column, regexp_replace(col(column), \",\", \";\"))"
   ]
  },
  {
   "cell_type": "code",
   "execution_count": 51,
   "id": "42eda237",
   "metadata": {},
   "outputs": [
    {
     "data": {
      "text/plain": [
       "215939"
      ]
     },
     "execution_count": 51,
     "metadata": {},
     "output_type": "execute_result"
    }
   ],
   "source": [
    "df_final.count()"
   ]
  },
  {
   "cell_type": "code",
   "execution_count": 52,
   "id": "5e63d70e",
   "metadata": {},
   "outputs": [
    {
     "data": {
      "text/plain": [
       "31"
      ]
     },
     "execution_count": 52,
     "metadata": {},
     "output_type": "execute_result"
    }
   ],
   "source": [
    "len(df_final.columns)"
   ]
  },
  {
   "cell_type": "code",
   "execution_count": 55,
   "id": "c161b3d0",
   "metadata": {},
   "outputs": [
    {
     "name": "stdout",
     "output_type": "stream",
     "text": [
      "+---------------+-------------------+----+-----+---+--------+----+-------+-----+------------------------+------------------+--------------------+---------------+-----------+--------------------------+--------------------+------------------------+--------------------+---------+-----+--------+----------+----------+------------+--------------------+--------+--------+-----+-----------------+-------------+------------+\n",
      "|Accident Number|      Date and Time|year|month|day|    Time|hour|minutes|PM/AM|Number of Motor Vehicles|Number of Injuries|Number of Fatalities|Property Damage|Hit and Run|Collision Type Description| Weather Description|Illumination Description|      Street Address|     City|State|Precinct|       Lat|      Long|HarmfulCodes| HarmfulDescriptions|ObjectId|Zip Code|  RPA|Reporting Officer|            x|           y|\n",
      "+---------------+-------------------+----+-----+---+--------+----+-------+-----+------------------------+------------------+--------------------+---------------+-----------+--------------------------+--------------------+------------------------+--------------------+---------+-----+--------+----------+----------+------------+--------------------+--------+--------+-----+-----------------+-------------+------------+\n",
      "|     2008473471|2018-07-14 23:00:00|2018|    7| 14|23:00:00|  23|      0|   PM|                       2|                 2|                   0|            Yes|          N|                     ANGLE|NO ADVERSE CONDIT...|                 UNKNOWN|28TH AVE N & JEFF...|NASHVILLE|   TN|   NORTH|36.1678515|-86.820759|     UNKNOWN|             UNKNOWN|       1|   37208| 4525|           225845|-9664842.6822|4323742.1271|\n",
      "|     2008787228|2018-11-16 09:33:00|2018|   11| 16|09:33:00|   9|     33|   AM|                       1|                 1|                   0|            Yes|          N|      NOT COLLISION W/M...|NO ADVERSE CONDIT...|                 UNKNOWN|DR D B TODD JR BL...|NASHVILLE|   TN|   NORTH|36.1592612|-86.801016|     UNKNOWN|             UNKNOWN|       2|   37203| 5401|           475881|-9662644.9015|4322557.6537|\n",
      "|    20120135824|2021-03-08 18:05:00|2021|    3|  8|18:05:00|  18|      5|   PM|                       2|                 1|                   0|            Yes|          N|             Front to Rear|               CLEAR|                DAYLIGHT|W TRINITY LN & E ...|NASHVILLE|   TN|    EAST|  36.20592| -86.76898|          12|MOTOR VEHICLE IN ...|       5|   37207| 1863|           473670|-9659078.6703|4328992.7652|\n",
      "|    20130207124|2019-07-23 15:46:00|2019|    7| 23|15:46:00|  15|     46|   PM|                       2|                 0|                   0|            Yes|          N|             Front to Rear|               CLEAR|                DAYLIGHT|        MM 7 2 I 440|NASHVILLE|   TN|   SOUTH|  36.12547| -86.73329|          12|MOTOR VEHICLE IN ...|       6|   37210|83043|           716886|-9655105.6776|4317899.6131|\n",
      "|    20130311458|2023-08-23 13:00:00|2023|    8| 23|13:00:00|  13|      0|   PM|                       2|                 0|                   0|             No|          N|      SIDESWIPE - SAME ...|               CLEAR|                DAYLIGHT|        MM 48 8 I 24|NASHVILLE|   TN|  CENTRA|  36.16879| -86.76631|          12|MOTOR VEHICLE IN ...|       7|   37213| 1104|           834807|-9658781.4472|  4323871.54|\n",
      "|    20150316352|2018-04-09 02:19:00|2018|    4|  9|02:19:00|   2|     19|   AM|                       2|                 0|                   0|            Yes|          Y|                     ANGLE|               CLEAR|          DARK - LIGHTED|        MM 62 4 I 24|  ANTIOCH|   TN|   SOUTH|  36.01645| -86.62305|       12;39|MOTOR VEHICLE IN ...|       9|   37013| 8806|           110090| -9642833.817|4302885.1028|\n",
      "|    20150550257|2019-07-23 23:40:00|2019|    7| 23|23:40:00|  23|     40|   PM|                       2|                 1|                   0|            Yes|          N|                     ANGLE|              CLOUDY|                DAYLIGHT|NOLENSVILLE PKE &...|NASHVILLE|   TN|   SOUTH|  36.09856| -86.73893|          12|MOTOR VEHICLE IN ...|      10|   37211| 8431|           420040|-9655733.5196|4314191.5645|\n",
      "|    20170000819|2018-01-01 14:45:00|2018|    1|  1|14:45:00|  14|     45|   PM|                       1|                 1|                   0|            Yes|          N|      NOT COLLISION W/M...|               CLEAR|                DAYLIGHT|OLD HICKORY BLVD ...|NASHVILLE|   TN|  MADISO|  36.27071| -86.76002|          32|             CULVERT|      11|   37207| 2025|           332253|-9658081.2476|4337934.8703|\n",
      "|    20170007441|2018-01-03 15:01:00|2018|    1|  3|15:01:00|  15|      1|   PM|                       2|                 0|                   0|            Yes|          N|             Front to Rear|               CLEAR|                DAYLIGHT|WEST END AV & PAR...|NASHVILLE|   TN|  MIDTOW|  36.13967| -86.81874|          55|Motor Vehicle-In-...|      12|   37212| 5817|           544482|-9664617.9281|4319856.8066|\n",
      "|    20170020701|2018-01-07 13:44:00|2018|    1|  7|13:44:00|  13|     44|   PM|                       1|                 2|                   0|            Yes|          N|      NOT COLLISION W/M...|               CLEAR|                DAYLIGHT|I24 E EXT RAMP & ...|NASHVILLE|   TN|   NORTH|  36.04589| -86.66055|        1;24|      GUARDRAIL FACE|      13|   37207|30080|           474557|-9647008.2979|4306937.6039|\n",
      "|    20170035976|2018-01-11 23:59:00|2018|    1| 11|23:59:00|  23|     59|   PM|                       2|                 0|                   0|            Yes|          N|                     ANGLE|              CLOUDY|          DARK - LIGHTED|LYNWOOD AV & 8TH AVS|NASHVILLE|   TN|  MIDTOW|  36.13832|  -86.7785|          12|MOTOR VEHICLE IN ...|      14|   37203| 6941|           191570|-9660138.4318|4319670.7202|\n",
      "|    20170132398|2018-02-09 19:27:00|2018|    2|  9|19:27:00|  19|     27|   PM|                       2|                 1|                   0|            Yes|          N|                     ANGLE|               CLEAR|                DAYLIGHT|MCGAVOCK PKE & AR...|NASHVILLE|   TN|    EAST|  36.20959| -86.71359|          12|MOTOR VEHICLE IN ...|      15|   37216| 1449|           224437|-9652912.6837|4329499.0887|\n",
      "|    20170170810|2018-02-22 00:50:00|2018|    2| 22|00:50:00|   0|     50|   AM|                       2|                 0|                   0|             No|          N|      SIDESWIPE - SAME ...|              CLOUDY|          DARK - LIGHTED|        MM 54 8 I 24|NASHVILLE|   TN|   SOUTH|  36.09703|   -86.709|          12|MOTOR VEHICLE IN ...|      16|   37211| 8812|           633370|-9652401.7272|4313980.7772|\n",
      "|    20170243406|2018-03-16 12:27:00|2018|    3| 16|12:27:00|  12|     27|   PM|                       2|                 0|                   0|            Yes|          N|                     ANGLE|               CLEAR|                DAYLIGHT|21ST AVN & MURPHY AV|NASHVILLE|   TN|  MIDTOW|  36.15559| -86.80505|          12|MOTOR VEHICLE IN ...|      17|   37203| 5507|           544482|-9663093.9643|4322051.4899|\n",
      "|    20170433573|2019-06-29 21:45:00|2019|    6| 29|21:45:00|  21|     45|   PM|                       3|                 1|                   0|            Yes|          N|             Front to Rear|               CLEAR|                DAYLIGHT|SMITH SPRINGS RD ...|NASHVILLE|   TN|  HERMIT|  36.08903| -86.61407|          12|MOTOR VEHICLE IN ...|      18|   37217| 8929|           256424|-9641834.1679|4312878.6879|\n",
      "|    20170467982|2018-05-29 02:30:00|2018|    5| 29|02:30:00|   2|     30|   AM|                       2|                 3|                   0|            Yes|          N|                     ANGLE|               CLEAR|          DARK - LIGHTED|4TH AVS & I40 W E...|NASHVILLE|   TN|  CENTRA|   36.1509| -86.77064|       12;30|MOTOR VEHICLE IN ...|      19|   37203| 4007|           240943|-9659263.4606|4321404.8943|\n",
      "|    20170728702|2018-08-25 10:12:00|2018|    8| 25|10:12:00|  10|     12|   AM|                       2|                 0|                   1|            Yes|          N|                   HEAD-ON|               CLEAR|      DARK - NOT LIGHTED|MURFREESBORO PKE ...|  ANTIOCH|   TN|   SOUTH|    36.031| -86.59346|          12|MOTOR VEHICLE IN ...|      20|   37013| 8869|           345098|-9639539.8732|4304887.7631|\n",
      "|    20171074492|2018-05-08 18:45:00|2018|    5|  8|18:45:00|  18|     45|   PM|                       1|                 1|                   0|             No|          N|                   UNKNOWN|               CLEAR|                DAYLIGHT|      143 GORDON TER|NASHVILLE|   TN|    EAST|  36.21101| -86.76008|          99|UNKNOWN MOST HARM...|      21|   37207| 1831|           197047|-9658087.9268|4329695.0023|\n",
      "|    20180000079|2018-01-01 06:26:00|2018|    1|  1|06:26:00|   6|     26|   AM|                       2|                 0|                   0|             No|          N|      SIDESWIPE - SAME ...|               CLEAR|          DARK - LIGHTED|  BROADWAY & 7TH AVN|NASHVILLE|   TN|  CENTRA|  36.15941| -86.78091|          12|MOTOR VEHICLE IN ...|      22|   37203| 4085|           279117|-9660406.7118|4322578.1699|\n",
      "|    20180000088|2018-01-01 06:25:00|2018|    1|  1|06:25:00|   6|     25|   AM|                       3|                 0|                   0|             No|          Y|      SIDESWIPE - SAME ...|               CLEAR|          DARK - LIGHTED|COUGAR DR & WILCL...|NASHVILLE|   TN|    WEST|   36.1447| -86.87773|    14;19;64|PARKED MOTOR VEHI...|      23|   37209| 5023|           226175|-9671184.6649|4320550.1791|\n",
      "+---------------+-------------------+----+-----+---+--------+----+-------+-----+------------------------+------------------+--------------------+---------------+-----------+--------------------------+--------------------+------------------------+--------------------+---------+-----+--------+----------+----------+------------+--------------------+--------+--------+-----+-----------------+-------------+------------+\n",
      "only showing top 20 rows\n",
      "\n"
     ]
    }
   ],
   "source": [
    "df_final.show()"
   ]
  },
  {
   "cell_type": "code",
   "execution_count": null,
   "id": "867ec4e6",
   "metadata": {},
   "outputs": [],
   "source": [
    "df_final.coalesce(1).write.mode(\"overwrite\").option(\"header\", True).csv(\"Nashville Accidents.csv\")"
   ]
  }
 ],
 "metadata": {
  "kernelspec": {
   "display_name": "Python 3 (ipykernel)",
   "language": "python",
   "name": "python3"
  },
  "language_info": {
   "codemirror_mode": {
    "name": "ipython",
    "version": 3
   },
   "file_extension": ".py",
   "mimetype": "text/x-python",
   "name": "python",
   "nbconvert_exporter": "python",
   "pygments_lexer": "ipython3",
   "version": "3.9.19"
  }
 },
 "nbformat": 4,
 "nbformat_minor": 5
}
